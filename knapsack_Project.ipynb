{
 "cells": [
  {
   "cell_type": "markdown",
   "metadata": {},
   "source": [
    "# Knapsack using Greedy Algorithm"
   ]
  },
  {
   "cell_type": "markdown",
   "metadata": {},
   "source": [
    "# 1. 0/1 Knapsack "
   ]
  },
  {
   "cell_type": "code",
   "execution_count": 1,
   "metadata": {},
   "outputs": [
    {
     "name": "stdout",
     "output_type": "stream",
     "text": [
      "collected value: 42.0 , collected_weight: 12.0\n",
      "collected items: [3, 2, 6, 5]\n"
     ]
    }
   ],
   "source": [
    "import numpy as np\n",
    "# Using Maximum Profit 0/1 knapsack\n",
    "def knapsack_max_profit(w, knapsack_w):\n",
    "    value_w = np.ones(w.shape) * w   # creates a new copy of the \"w\" to avoid the error of mutation when using value_w = w\n",
    "    collected_weight = 0\n",
    "    collected_value = 0\n",
    "    collected_items = []\n",
    "    while (True):\n",
    "        ind = np.argmax(value_w[:,0],axis=None)\n",
    "        if (value_w[ind,0] == 0) & (value_w[ind,1] == 0):\n",
    "            print(\"All items were taken.\")\n",
    "            break\n",
    "        if (collected_weight+value_w[ind,1]) > knapsack_w:\n",
    "            break\n",
    "        collected_weight += value_w[ind,1]\n",
    "        collected_value += value_w[ind,0]\n",
    "        collected_items.append(ind+1) #starting from item 1 to item \"value_w.shape[0]\"\n",
    "        value_w[ind,0] = 0    #substitute two values with 0\n",
    "        value_w[ind,1] = 0\n",
    "    \n",
    "    return collected_value, collected_weight, collected_items\n",
    "        \n",
    "        \n",
    "X = np.array([[5,1],\n",
    "              [10,3],\n",
    "              [15,5],\n",
    "              [7,4],\n",
    "              [8,1],\n",
    "              [9,3],\n",
    "              [4,2]])\n",
    "knapsack_w = 15\n",
    "\n",
    "collected_value, collected_weight, items = knapsack_max_profit(X,knapsack_w)\n",
    "print(f\"collected value: {collected_value} , collected_weight: {collected_weight}\")\n",
    "print(f\"collected items: {items}\")  #starting from item 1 to item \"value_w.shape[0]\""
   ]
  },
  {
   "cell_type": "code",
   "execution_count": 2,
   "metadata": {},
   "outputs": [
    {
     "name": "stdout",
     "output_type": "stream",
     "text": [
      "collected value: 43.0 , collected_weight: 14.0\n",
      "collected items: [1, 5, 7, 2, 6, 4]\n"
     ]
    }
   ],
   "source": [
    "def knapsack_min_weight(w, knapsack_w):\n",
    "    value_w = np.ones(w.shape) * w   # creates a new copy of the \"w\" to avoid the error of mutation when using value_w = w\n",
    "    collected_weight = 0\n",
    "    collected_value = 0\n",
    "    collected_items = []\n",
    "    max_value = max(value_w[:,0])\n",
    "    max_weight = max(value_w[:,1])\n",
    "    while (True):\n",
    "        ind = np.argmin(value_w[:,1],axis=None)\n",
    "        if (value_w[ind,0] == max_value+1000) & (value_w[ind,1] == max_weight+1000):\n",
    "            print(\"All items were taken.\")\n",
    "            break\n",
    "        if (collected_weight+value_w[ind,1]) > knapsack_w:\n",
    "            break\n",
    "        collected_weight += value_w[ind,1]\n",
    "        collected_value += value_w[ind,0]\n",
    "        collected_items.append(ind+1) #starting from item 1 to item \"value_w.shape[0]\"\n",
    "        value_w[ind,0] = max_value+1000    #substitute two values with max values so not be taken again\n",
    "        value_w[ind,1] = max_weight+1000\n",
    "        \n",
    "    return collected_value, collected_weight, collected_items\n",
    "\n",
    "X = np.array([[5,1],\n",
    "              [10,3],\n",
    "              [15,5],\n",
    "              [7,4],\n",
    "              [8,1],\n",
    "              [9,3],\n",
    "              [4,2]])\n",
    "\n",
    "knapsack_w = 15\n",
    "\n",
    "collected_value, collected_weight, items = knapsack_min_weight(X,knapsack_w)\n",
    "print(f\"collected value: {collected_value} , collected_weight: {collected_weight}\")\n",
    "print(f\"collected items: {items}\")  #starting from item 1 to item \"value_w.shape[0]\""
   ]
  },
  {
   "cell_type": "code",
   "execution_count": 3,
   "metadata": {},
   "outputs": [
    {
     "name": "stdout",
     "output_type": "stream",
     "text": [
      "collected value: 51.0 , collected_weight: 15.0\n",
      "collected items: [5, 1, 2, 3, 6, 7]\n"
     ]
    }
   ],
   "source": [
    "def knapsack_Max_Profit_over_weight(w, knapsack_w):\n",
    "    value_w = np.ones(w.shape) * w   # creates a new copy of the \"w\" to avoid the error of mutation when using value_w = w\n",
    "    new_column = value_w[:,0]/value_w[:,1] \n",
    "    new_column = new_column[:,np.newaxis]\n",
    "    value_w = np.append(value_w, new_column, axis=1)\n",
    "    collected_weight = 0\n",
    "    collected_value = 0\n",
    "    collected_items = []\n",
    "    while (True):\n",
    "        ind = np.argmax(value_w[:,2],axis=None)\n",
    "        if (value_w[ind,0] == 0) & (value_w[ind,1] == 0):\n",
    "            print(\"All items were taken.\")\n",
    "            break\n",
    "        if (collected_weight+value_w[ind,1]) > knapsack_w:\n",
    "            break\n",
    "        collected_weight += value_w[ind,1]\n",
    "        collected_value += value_w[ind,0]\n",
    "        collected_items.append(ind+1) #starting from item 1 to item \"value_w.shape[0]\"\n",
    "        value_w[ind,0] = 0    #substitute three values with 0\n",
    "        value_w[ind,1] = 0\n",
    "        value_w[ind,2] = 0\n",
    "        \n",
    "    return collected_value, collected_weight, collected_items\n",
    "\n",
    "X = np.array([[5,1],\n",
    "              [10,3],\n",
    "              [15,5],\n",
    "              [7,4],\n",
    "              [8,1],\n",
    "              [9,3],\n",
    "              [4,2]])\n",
    "\n",
    "knapsack_w = 15\n",
    "\n",
    "collected_value, collected_weight, items = knapsack_Max_Profit_over_weight(X,knapsack_w)\n",
    "print(f\"collected value: {collected_value} , collected_weight: {collected_weight}\")\n",
    "print(f\"collected items: {items}\")  #starting from item 1 to item \"value_w.shape[0]\""
   ]
  },
  {
   "cell_type": "markdown",
   "metadata": {},
   "source": [
    "# 2. Fractional Knapsack"
   ]
  },
  {
   "cell_type": "code",
   "execution_count": 4,
   "metadata": {},
   "outputs": [
    {
     "name": "stdout",
     "output_type": "stream",
     "text": [
      "collected value: 47.25 , collected_weight: 15.0\n",
      "collected items: [3, 2, 6, 5, 4]\n"
     ]
    }
   ],
   "source": [
    "def Fractional_knapsack_max_profit(w, knapsack_w):\n",
    "    value_w = np.ones(w.shape) * w   # creates a new copy of the \"w\" to avoid the error of mutation when using value_w = w\n",
    "    collected_weight = 0\n",
    "    collected_value = 0\n",
    "    collected_items = []\n",
    "    remaining = knapsack_w\n",
    "    while (True):\n",
    "        ind = np.argmax(value_w[:,0],axis=None)\n",
    "        if (value_w[ind,0] == 0) & (value_w[ind,1] == 0):\n",
    "            print(\"All items were taken.\")\n",
    "            break\n",
    "        if value_w[ind,1] > remaining:\n",
    "            collected_value += (value_w[ind,0]/value_w[ind,1])*remaining\n",
    "            collected_weight += remaining\n",
    "            collected_items.append(ind+1)\n",
    "            remaining = 0\n",
    "            break\n",
    "        else:\n",
    "            remaining -= value_w[ind,1]\n",
    "            collected_weight += value_w[ind,1]\n",
    "            collected_value += value_w[ind,0]\n",
    "            collected_items.append(ind+1) #starting from item 1 to item \"value_w.shape[0]\"\n",
    "            value_w[ind,0] = 0    #substitute two values with 0\n",
    "            value_w[ind,1] = 0\n",
    "        \n",
    "    return collected_value, collected_weight, collected_items\n",
    "\n",
    "X = np.array([[5,1],\n",
    "              [10,3],\n",
    "              [15,5],\n",
    "              [7,4],\n",
    "              [8,1],\n",
    "              [9,3],\n",
    "              [4,2]])\n",
    "\n",
    "knapsack_w = 15\n",
    "\n",
    "collected_value, collected_weight, items = Fractional_knapsack_max_profit(X,knapsack_w)\n",
    "print(f\"collected value: {collected_value} , collected_weight: {collected_weight}\")\n",
    "print(f\"collected items: {items}\")  #starting from item 1 to item \"value_w.shape[0]\""
   ]
  },
  {
   "cell_type": "code",
   "execution_count": 6,
   "metadata": {},
   "outputs": [
    {
     "name": "stdout",
     "output_type": "stream",
     "text": [
      "collected value: 46.0 , collected_weight: 15.0\n",
      "collected items: [1, 5, 7, 2, 6, 4, 3]\n"
     ]
    }
   ],
   "source": [
    "def Fractional_knapsack_min_weight(w, knapsack_w):\n",
    "    value_w = np.ones(w.shape) * w   # creates a new copy of the \"w\" to avoid the error of mutation when using value_w = w\n",
    "    collected_weight = 0\n",
    "    collected_value = 0\n",
    "    collected_items = []\n",
    "    remaining = knapsack_w\n",
    "    max_value = max(value_w[:,0])\n",
    "    max_weight = max(value_w[:,1])\n",
    "    while (True):\n",
    "        ind = np.argmin(value_w[:,1],axis=None)\n",
    "        if (value_w[ind,0] == max_value+1000) & (value_w[ind,1] == max_weight+1000):\n",
    "            print(\"All items were taken.\")\n",
    "            break\n",
    "        if value_w[ind,1] > remaining:\n",
    "            collected_value += (value_w[ind,0]/value_w[ind,1])*remaining\n",
    "            collected_weight += remaining\n",
    "            collected_items.append(ind+1)\n",
    "            remaining = 0\n",
    "            break\n",
    "        else:\n",
    "            remaining -= value_w[ind,1]\n",
    "            collected_weight += value_w[ind,1]\n",
    "            collected_value += value_w[ind,0]\n",
    "            collected_items.append(ind+1) #starting from item 1 to item \"value_w.shape[0]\"\n",
    "            value_w[ind,0] = max_value+1000   #substitute two values with max values so not be taken again\n",
    "            value_w[ind,1] = max_weight+1000\n",
    "        \n",
    "    return collected_value, collected_weight, collected_items\n",
    "\n",
    "X = np.array([[5,1],\n",
    "              [10,3],\n",
    "              [15,5],\n",
    "              [7,4],\n",
    "              [8,1],\n",
    "              [9,3],\n",
    "              [4,2]])\n",
    "\n",
    "knapsack_w = 15\n",
    "\n",
    "collected_value, collected_weight, items = Fractional_knapsack_min_weight(X,knapsack_w)\n",
    "print(f\"collected value: {collected_value} , collected_weight: {collected_weight}\")\n",
    "print(f\"collected items: {items}\")  #starting from item 1 to item \"value_w.shape[0]\""
   ]
  },
  {
   "cell_type": "code",
   "execution_count": 5,
   "metadata": {},
   "outputs": [
    {
     "name": "stdout",
     "output_type": "stream",
     "text": [
      "collected value: 51.0 , collected_weight: 15.0\n",
      "collected items: [5, 1, 2, 3, 6, 7, 4]\n"
     ]
    }
   ],
   "source": [
    "def Fractional_knapsack_Max_Profit_over_weight(w, knapsack_w):\n",
    "    value_w = np.ones(w.shape) * w   # creates a new copy of the \"w\" to avoid the error of mutation when using value_w = w\n",
    "    new_column = value_w[:,0]/value_w[:,1] \n",
    "    new_column = new_column[:,np.newaxis]\n",
    "    value_w = np.append(value_w, new_column, axis=1)\n",
    "    collected_weight = 0\n",
    "    collected_value = 0\n",
    "    collected_items = []\n",
    "    remaining = knapsack_w\n",
    "    while (True):\n",
    "        ind = np.argmax(value_w[:,2],axis=None)\n",
    "        if (value_w[ind,0] == 0) & (value_w[ind,1] == 0):\n",
    "            print(\"All items were taken.\")\n",
    "            break\n",
    "        if value_w[ind,1] > remaining:\n",
    "            collected_value += (value_w[ind,0]/value_w[ind,1])*remaining\n",
    "            collected_weight += remaining\n",
    "            collected_items.append(ind+1)\n",
    "            remaining = 0\n",
    "            break\n",
    "        else:\n",
    "            remaining -= value_w[ind,1]\n",
    "            collected_weight += value_w[ind,1]\n",
    "            collected_value += value_w[ind,0]\n",
    "            collected_items.append(ind+1) #starting from item 1 to item \"value_w.shape[0]\"\n",
    "            value_w[ind,0] = 0    #substitute two values with 0\n",
    "            value_w[ind,1] = 0\n",
    "            value_w[ind,2] = 0\n",
    "        \n",
    "    return collected_value, collected_weight, collected_items\n",
    "\n",
    "X = np.array([[5,1],\n",
    "              [10,3],\n",
    "              [15,5],\n",
    "              [7,4],\n",
    "              [8,1],\n",
    "              [9,3],\n",
    "              [4,2]])\n",
    "\n",
    "knapsack_w = 15\n",
    "\n",
    "collected_value, collected_weight, items = Fractional_knapsack_Max_Profit_over_weight(X,knapsack_w)\n",
    "print(f\"collected value: {collected_value} , collected_weight: {collected_weight}\")\n",
    "print(f\"collected items: {items}\")  #starting from item 1 to item \"value_w.shape[0]\""
   ]
  },
  {
   "cell_type": "markdown",
   "metadata": {},
   "source": [
    "# Main Program"
   ]
  },
  {
   "cell_type": "code",
   "execution_count": 7,
   "metadata": {},
   "outputs": [],
   "source": [
    "def choose_program(name_code, value_w, knapsack_w):\n",
    "    if name_code == \"1\":\n",
    "        collected_value, collected_weight, items = knapsack_max_profit(value_w, knapsack_w)\n",
    "    elif name_code == \"2\":\n",
    "        collected_value, collected_weight, items = knapsack_min_weight(X,knapsack_w)\n",
    "    elif name_code == \"3\":\n",
    "        collected_value, collected_weight, items = knapsack_Max_Profit_over_weight(X,knapsack_w)\n",
    "    elif name_code == \"4\":\n",
    "        collected_value, collected_weight, items = Fractional_knapsack_max_profit(X,knapsack_w)\n",
    "    elif name_code == \"5\":\n",
    "        collected_value, collected_weight, items = Fractional_knapsack_min_weight(X,knapsack_w)\n",
    "    elif name_code == \"6\":\n",
    "        collected_value, collected_weight, items = Fractional_knapsack_Max_Profit_over_weight(X,knapsack_w)\n",
    "    else:\n",
    "        print(\"error: wrong value was entered, please try again.\")\n",
    "    \n",
    "    print(f\"collected value: {collected_value} , collected_weight: {collected_weight}\")\n",
    "    print(f\"collected items: {items}\")  #starting from item 1 to item \"value_w.shape[0]\""
   ]
  },
  {
   "cell_type": "code",
   "execution_count": 9,
   "metadata": {},
   "outputs": [
    {
     "name": "stdout",
     "output_type": "stream",
     "text": [
      "Choose program to test\n",
      "1. 1/0 knapsack using max profit\n",
      "2. 1/0 knapsack using min weight\n",
      "3. 1/0 knapsack using max profit/weigth\n",
      "4. Fractional knapsack using max profit\n",
      "5. Fractional knapsack using min weight\n",
      "6. Fractional knapsack using max profit/weigth\n",
      "7. Update Array and knapsack value \n",
      "8. Add new Array and knapsack value\n",
      "To exit program type q or exit\n"
     ]
    },
    {
     "name": "stdin",
     "output_type": "stream",
     "text": [
      "Choose value between 1-8:  1\n"
     ]
    },
    {
     "name": "stdout",
     "output_type": "stream",
     "text": [
      "knapsack weight: 15\n",
      "Array: [[ 5  1]\n",
      " [10  3]\n",
      " [15  5]\n",
      " [ 7  4]\n",
      " [ 8  1]\n",
      " [ 9  3]\n",
      " [ 4  2]]\n",
      "collected value: 42.0 , collected_weight: 12.0\n",
      "collected items: [3, 2, 6, 5]\n",
      "\n",
      "------------------------------------------------------\n",
      "\n",
      "Choose program to test\n",
      "1. 1/0 knapsack using max profit\n",
      "2. 1/0 knapsack using min weight\n",
      "3. 1/0 knapsack using max profit/weigth\n",
      "4. Fractional knapsack using max profit\n",
      "5. Fractional knapsack using min weight\n",
      "6. Fractional knapsack using max profit/weigth\n",
      "7. Update Array and knapsack value \n",
      "8. Add new Array and knapsack value\n",
      "To exit program type q or exit\n"
     ]
    },
    {
     "name": "stdin",
     "output_type": "stream",
     "text": [
      "Choose value between 1-8:  2\n"
     ]
    },
    {
     "name": "stdout",
     "output_type": "stream",
     "text": [
      "knapsack weight: 15\n",
      "Array: [[ 5  1]\n",
      " [10  3]\n",
      " [15  5]\n",
      " [ 7  4]\n",
      " [ 8  1]\n",
      " [ 9  3]\n",
      " [ 4  2]]\n",
      "collected value: 43.0 , collected_weight: 14.0\n",
      "collected items: [1, 5, 7, 2, 6, 4]\n",
      "\n",
      "------------------------------------------------------\n",
      "\n",
      "Choose program to test\n",
      "1. 1/0 knapsack using max profit\n",
      "2. 1/0 knapsack using min weight\n",
      "3. 1/0 knapsack using max profit/weigth\n",
      "4. Fractional knapsack using max profit\n",
      "5. Fractional knapsack using min weight\n",
      "6. Fractional knapsack using max profit/weigth\n",
      "7. Update Array and knapsack value \n",
      "8. Add new Array and knapsack value\n",
      "To exit program type q or exit\n"
     ]
    },
    {
     "name": "stdin",
     "output_type": "stream",
     "text": [
      "Choose value between 1-8:  3\n"
     ]
    },
    {
     "name": "stdout",
     "output_type": "stream",
     "text": [
      "knapsack weight: 15\n",
      "Array: [[ 5  1]\n",
      " [10  3]\n",
      " [15  5]\n",
      " [ 7  4]\n",
      " [ 8  1]\n",
      " [ 9  3]\n",
      " [ 4  2]]\n",
      "collected value: 51.0 , collected_weight: 15.0\n",
      "collected items: [5, 1, 2, 3, 6, 7]\n",
      "\n",
      "------------------------------------------------------\n",
      "\n",
      "Choose program to test\n",
      "1. 1/0 knapsack using max profit\n",
      "2. 1/0 knapsack using min weight\n",
      "3. 1/0 knapsack using max profit/weigth\n",
      "4. Fractional knapsack using max profit\n",
      "5. Fractional knapsack using min weight\n",
      "6. Fractional knapsack using max profit/weigth\n",
      "7. Update Array and knapsack value \n",
      "8. Add new Array and knapsack value\n",
      "To exit program type q or exit\n"
     ]
    },
    {
     "name": "stdin",
     "output_type": "stream",
     "text": [
      "Choose value between 1-8:  4\n"
     ]
    },
    {
     "name": "stdout",
     "output_type": "stream",
     "text": [
      "knapsack weight: 15\n",
      "Array: [[ 5  1]\n",
      " [10  3]\n",
      " [15  5]\n",
      " [ 7  4]\n",
      " [ 8  1]\n",
      " [ 9  3]\n",
      " [ 4  2]]\n",
      "collected value: 47.25 , collected_weight: 15.0\n",
      "collected items: [3, 2, 6, 5, 4]\n",
      "\n",
      "------------------------------------------------------\n",
      "\n",
      "Choose program to test\n",
      "1. 1/0 knapsack using max profit\n",
      "2. 1/0 knapsack using min weight\n",
      "3. 1/0 knapsack using max profit/weigth\n",
      "4. Fractional knapsack using max profit\n",
      "5. Fractional knapsack using min weight\n",
      "6. Fractional knapsack using max profit/weigth\n",
      "7. Update Array and knapsack value \n",
      "8. Add new Array and knapsack value\n",
      "To exit program type q or exit\n"
     ]
    },
    {
     "name": "stdin",
     "output_type": "stream",
     "text": [
      "Choose value between 1-8:  5\n"
     ]
    },
    {
     "name": "stdout",
     "output_type": "stream",
     "text": [
      "knapsack weight: 15\n",
      "Array: [[ 5  1]\n",
      " [10  3]\n",
      " [15  5]\n",
      " [ 7  4]\n",
      " [ 8  1]\n",
      " [ 9  3]\n",
      " [ 4  2]]\n",
      "collected value: 46.0 , collected_weight: 15.0\n",
      "collected items: [1, 5, 7, 2, 6, 4, 3]\n",
      "\n",
      "------------------------------------------------------\n",
      "\n",
      "Choose program to test\n",
      "1. 1/0 knapsack using max profit\n",
      "2. 1/0 knapsack using min weight\n",
      "3. 1/0 knapsack using max profit/weigth\n",
      "4. Fractional knapsack using max profit\n",
      "5. Fractional knapsack using min weight\n",
      "6. Fractional knapsack using max profit/weigth\n",
      "7. Update Array and knapsack value \n",
      "8. Add new Array and knapsack value\n",
      "To exit program type q or exit\n"
     ]
    },
    {
     "name": "stdin",
     "output_type": "stream",
     "text": [
      "Choose value between 1-8:  6\n"
     ]
    },
    {
     "name": "stdout",
     "output_type": "stream",
     "text": [
      "knapsack weight: 15\n",
      "Array: [[ 5  1]\n",
      " [10  3]\n",
      " [15  5]\n",
      " [ 7  4]\n",
      " [ 8  1]\n",
      " [ 9  3]\n",
      " [ 4  2]]\n",
      "collected value: 51.0 , collected_weight: 15.0\n",
      "collected items: [5, 1, 2, 3, 6, 7, 4]\n",
      "\n",
      "------------------------------------------------------\n",
      "\n",
      "Choose program to test\n",
      "1. 1/0 knapsack using max profit\n",
      "2. 1/0 knapsack using min weight\n",
      "3. 1/0 knapsack using max profit/weigth\n",
      "4. Fractional knapsack using max profit\n",
      "5. Fractional knapsack using min weight\n",
      "6. Fractional knapsack using max profit/weigth\n",
      "7. Update Array and knapsack value \n",
      "8. Add new Array and knapsack value\n",
      "To exit program type q or exit\n"
     ]
    },
    {
     "name": "stdin",
     "output_type": "stream",
     "text": [
      "Choose value between 1-8:  7\n",
      "Choose no of elements to Add:  2\n",
      "Input update value (ex: profit weigth):  10 2\n",
      "Input update value (ex: profit weigth):  9 3\n",
      "choose value for knapsack weight (default=15):  20\n"
     ]
    },
    {
     "name": "stdout",
     "output_type": "stream",
     "text": [
      "knapsack weight: 20\n",
      "Array: [[ 5  1]\n",
      " [10  3]\n",
      " [15  5]\n",
      " [ 7  4]\n",
      " [ 8  1]\n",
      " [ 9  3]\n",
      " [ 4  2]\n",
      " [10  2]\n",
      " [ 9  3]]\n",
      "\n",
      "------------------------------------------------------\n",
      "\n",
      "Choose program to test\n",
      "1. 1/0 knapsack using max profit\n",
      "2. 1/0 knapsack using min weight\n",
      "3. 1/0 knapsack using max profit/weigth\n",
      "4. Fractional knapsack using max profit\n",
      "5. Fractional knapsack using min weight\n",
      "6. Fractional knapsack using max profit/weigth\n",
      "7. Update Array and knapsack value \n",
      "8. Add new Array and knapsack value\n",
      "To exit program type q or exit\n"
     ]
    },
    {
     "name": "stdin",
     "output_type": "stream",
     "text": [
      "Choose value between 1-8:  6\n"
     ]
    },
    {
     "name": "stdout",
     "output_type": "stream",
     "text": [
      "knapsack weight: 20\n",
      "Array: [[ 5  1]\n",
      " [10  3]\n",
      " [15  5]\n",
      " [ 7  4]\n",
      " [ 8  1]\n",
      " [ 9  3]\n",
      " [ 4  2]\n",
      " [10  2]\n",
      " [ 9  3]]\n",
      "collected value: 70.0 , collected_weight: 20.0\n",
      "collected items: [5, 1, 8, 2, 3, 6, 9, 7, 4]\n",
      "\n",
      "------------------------------------------------------\n",
      "\n",
      "Choose program to test\n",
      "1. 1/0 knapsack using max profit\n",
      "2. 1/0 knapsack using min weight\n",
      "3. 1/0 knapsack using max profit/weigth\n",
      "4. Fractional knapsack using max profit\n",
      "5. Fractional knapsack using min weight\n",
      "6. Fractional knapsack using max profit/weigth\n",
      "7. Update Array and knapsack value \n",
      "8. Add new Array and knapsack value\n",
      "To exit program type q or exit\n"
     ]
    },
    {
     "name": "stdin",
     "output_type": "stream",
     "text": [
      "Choose value between 1-8:  8\n",
      "Choose no of elements to Add:  5\n",
      "Input update value (ex: profit weigth):  10 3\n",
      "Input update value (ex: profit weigth):  15 5\n",
      "Input update value (ex: profit weigth):  7 4\n",
      "Input update value (ex: profit weigth):  8 1\n",
      "Input update value (ex: profit weigth):  9 3\n",
      "choose value for knapsack weight (default=15):  15\n"
     ]
    },
    {
     "name": "stdout",
     "output_type": "stream",
     "text": [
      "knapsack weight: 15\n",
      "Array: [[10  3]\n",
      " [15  5]\n",
      " [ 7  4]\n",
      " [ 8  1]\n",
      " [ 9  3]]\n",
      "\n",
      "------------------------------------------------------\n",
      "\n",
      "Choose program to test\n",
      "1. 1/0 knapsack using max profit\n",
      "2. 1/0 knapsack using min weight\n",
      "3. 1/0 knapsack using max profit/weigth\n",
      "4. Fractional knapsack using max profit\n",
      "5. Fractional knapsack using min weight\n",
      "6. Fractional knapsack using max profit/weigth\n",
      "7. Update Array and knapsack value \n",
      "8. Add new Array and knapsack value\n",
      "To exit program type q or exit\n"
     ]
    },
    {
     "name": "stdin",
     "output_type": "stream",
     "text": [
      "Choose value between 1-8:  6\n"
     ]
    },
    {
     "name": "stdout",
     "output_type": "stream",
     "text": [
      "knapsack weight: 15\n",
      "Array: [[10  3]\n",
      " [15  5]\n",
      " [ 7  4]\n",
      " [ 8  1]\n",
      " [ 9  3]]\n",
      "collected value: 47.25 , collected_weight: 15.0\n",
      "collected items: [4, 1, 2, 5, 3]\n",
      "\n",
      "------------------------------------------------------\n",
      "\n",
      "Choose program to test\n",
      "1. 1/0 knapsack using max profit\n",
      "2. 1/0 knapsack using min weight\n",
      "3. 1/0 knapsack using max profit/weigth\n",
      "4. Fractional knapsack using max profit\n",
      "5. Fractional knapsack using min weight\n",
      "6. Fractional knapsack using max profit/weigth\n",
      "7. Update Array and knapsack value \n",
      "8. Add new Array and knapsack value\n",
      "To exit program type q or exit\n"
     ]
    },
    {
     "name": "stdin",
     "output_type": "stream",
     "text": [
      "Choose value between 1-8:  q\n"
     ]
    }
   ],
   "source": [
    "X = np.array([[5,1],\n",
    "              [10,3],\n",
    "              [15,5],\n",
    "              [7,4],\n",
    "              [8,1],\n",
    "              [9,3],\n",
    "              [4,2]])\n",
    "knapsack_w = 15\n",
    "\n",
    "while (True):\n",
    "    print(\"Choose program to test\")\n",
    "    print(\"1. 1/0 knapsack using max profit\")\n",
    "    print(\"2. 1/0 knapsack using min weight\")\n",
    "    print(\"3. 1/0 knapsack using max profit/weigth\")\n",
    "    print(\"4. Fractional knapsack using max profit\")\n",
    "    print(\"5. Fractional knapsack using min weight\")\n",
    "    print(\"6. Fractional knapsack using max profit/weigth\")\n",
    "    print(\"7. Update Array and knapsack value \")\n",
    "    print(\"8. Add new Array and knapsack value\")\n",
    "    print(\"To exit program type q or exit\")\n",
    "    value = input(\"Choose value between 1-8: \")\n",
    "    \n",
    "    if ((value == \"q\") or (value ==\"exit\")):\n",
    "        break\n",
    "        \n",
    "    elif (value == \"7\"):\n",
    "        no_ele = int(input(\"Choose no of elements to Add: \"))\n",
    "        for i in range(0,no_ele):\n",
    "            value_new= list(map(int,input(\"Input update value (ex: profit weigth): \").strip().split()))\n",
    "            X = np.vstack([X, value_new])\n",
    "        knapsack_w = int(input(\"choose value for knapsack weight (default=15): \"))\n",
    "    elif (value==\"8\"):\n",
    "        no_ele = int(input(\"Choose no of elements to Add: \"))\n",
    "        X = np.array([[0,0]])\n",
    "        for i in range(0,no_ele):\n",
    "            value_new= list(map(int,input(\"Input update value (ex: profit weigth): \").strip().split()))\n",
    "            X = np.vstack([X, value_new])\n",
    "        X = np.delete(X,0,0)\n",
    "        knapsack_w = int(input(\"choose value for knapsack weight (default=15): \"))\n",
    "    \n",
    "    \n",
    "    print(f\"knapsack weight: {knapsack_w}\")\n",
    "    print(f\"Array: {X}\")\n",
    "    \n",
    "    if (1 <= int(value) <= 6):\n",
    "        choose_program(value, X, knapsack_w)\n",
    "    print(\"\\n------------------------------------------------------\\n\")"
   ]
  },
  {
   "cell_type": "code",
   "execution_count": null,
   "metadata": {},
   "outputs": [],
   "source": []
  }
 ],
 "metadata": {
  "kernelspec": {
   "display_name": "Python 3",
   "language": "python",
   "name": "python3"
  },
  "language_info": {
   "codemirror_mode": {
    "name": "ipython",
    "version": 3
   },
   "file_extension": ".py",
   "mimetype": "text/x-python",
   "name": "python",
   "nbconvert_exporter": "python",
   "pygments_lexer": "ipython3",
   "version": "3.7.6"
  }
 },
 "nbformat": 4,
 "nbformat_minor": 4
}
